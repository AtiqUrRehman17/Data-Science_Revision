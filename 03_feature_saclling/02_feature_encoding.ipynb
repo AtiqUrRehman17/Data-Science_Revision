{
 "cells": [
  {
   "cell_type": "markdown",
   "metadata": {},
   "source": [
    "# Feature Endcoding"
   ]
  },
  {
   "cell_type": "code",
   "execution_count": 9,
   "metadata": {},
   "outputs": [
    {
     "name": "stdout",
     "output_type": "stream",
     "text": [
      "   color_Blue  color_Green  color_Red\n",
      "0       False        False       True\n",
      "1        True        False      False\n",
      "2       False         True      False\n",
      "3       False        False       True\n"
     ]
    }
   ],
   "source": [
    "# import library\n",
    "import pandas as pd\n",
    "# sample of the data\n",
    "data = {'color':['Red','Blue','Green','Red']}\n",
    "# now convert it into dataframe\n",
    "df = pd.DataFrame(data)\n",
    "\n",
    "# One Hot Encoding\n",
    "ecoded_data = pd.get_dummies(df,columns=['color'])\n",
    "print(ecoded_data)"
   ]
  },
  {
   "cell_type": "markdown",
   "metadata": {},
   "source": [
    "# Label Encoding"
   ]
  },
  {
   "cell_type": "code",
   "execution_count": 14,
   "metadata": {},
   "outputs": [
    {
     "name": "stdout",
     "output_type": "stream",
     "text": [
      "  Animal\n",
      "0    Cat\n",
      "1    Dog\n",
      "2  Sanke\n",
      "3    Dog\n",
      "  Animal  Animal_encoded\n",
      "0    Cat               0\n",
      "1    Dog               1\n",
      "2  Sanke               2\n",
      "3    Dog               1\n"
     ]
    }
   ],
   "source": [
    "# import the librarie\n",
    "from sklearn.preprocessing import LabelEncoder\n",
    "# sample of the data\n",
    "data = {'Animal':['Cat','Dog','Sanke','Dog']}\n",
    "# now convert it into dataframe\n",
    "df = pd.DataFrame(data)\n",
    "print(df)\n",
    "# Label Encoding\n",
    "lebal_encoder = LabelEncoder()\n",
    "df['Animal_encoded'] = lebal_encoder.fit_transform(df['Animal'])\n",
    "print(df)"
   ]
  },
  {
   "cell_type": "markdown",
   "metadata": {},
   "source": [
    "# Ordinal Encoding"
   ]
  },
  {
   "cell_type": "code",
   "execution_count": 16,
   "metadata": {},
   "outputs": [
    {
     "name": "stdout",
     "output_type": "stream",
     "text": [
      "     size\n",
      "0   Small\n",
      "1  Miduim\n",
      "2   Large\n",
      "3  Miduim\n",
      "     size  size_encoded\n",
      "0   Small           0.0\n",
      "1  Miduim           1.0\n",
      "2   Large           2.0\n",
      "3  Miduim           1.0\n"
     ]
    }
   ],
   "source": [
    "# import the librarie\n",
    "from sklearn.preprocessing import OrdinalEncoder\n",
    "# sample of the data\n",
    "data = {'size':['Small','Miduim','Large','Miduim']}\n",
    "# now convert it into dataframe\n",
    "df = pd.DataFrame(data)\n",
    "# print the data \n",
    "print(df)\n",
    "# now Ordinal Encoding\n",
    "ordinal_encoder=OrdinalEncoder(categories=[['Small','Miduim','Large']])\n",
    "df['size_encoded'] = ordinal_encoder.fit_transform(df[['size']])\n",
    "print(df)"
   ]
  },
  {
   "cell_type": "code",
   "execution_count": null,
   "metadata": {},
   "outputs": [],
   "source": []
  }
 ],
 "metadata": {
  "kernelspec": {
   "display_name": "python_eda",
   "language": "python",
   "name": "python3"
  },
  "language_info": {
   "codemirror_mode": {
    "name": "ipython",
    "version": 3
   },
   "file_extension": ".py",
   "mimetype": "text/x-python",
   "name": "python",
   "nbconvert_exporter": "python",
   "pygments_lexer": "ipython3",
   "version": "3.11.5"
  }
 },
 "nbformat": 4,
 "nbformat_minor": 2
}
