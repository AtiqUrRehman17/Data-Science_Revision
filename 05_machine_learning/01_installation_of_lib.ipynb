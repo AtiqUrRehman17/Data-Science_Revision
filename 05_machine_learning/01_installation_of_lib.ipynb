{
 "cells": [
  {
   "cell_type": "markdown",
   "metadata": {},
   "source": [
    "# Steps\n",
    "1. create a new conda enviroment `python_ml`\n",
    "2. install the following packages\n",
    "3. python conda install python\n",
    "4. pandas\n",
    "5. numpy\n",
    "6. matplotlib\n",
    "7. seaborn\n",
    "8. scipy\n",
    "9. sciket-learn\n",
    "10. jupyter\n",
    "11. openpyxl\n",
    "12. plotly\n",
    "\n",
    "# pip install ...."
   ]
  },
  {
   "cell_type": "code",
   "execution_count": null,
   "metadata": {},
   "outputs": [],
   "source": []
  }
 ],
 "metadata": {
  "kernelspec": {
   "display_name": "python_ml",
   "language": "python",
   "name": "python3"
  },
  "language_info": {
   "codemirror_mode": {
    "name": "ipython",
    "version": 3
   },
   "file_extension": ".py",
   "mimetype": "text/x-python",
   "name": "python",
   "nbconvert_exporter": "python",
   "pygments_lexer": "ipython3",
   "version": "3.11.8"
  }
 },
 "nbformat": 4,
 "nbformat_minor": 2
}
