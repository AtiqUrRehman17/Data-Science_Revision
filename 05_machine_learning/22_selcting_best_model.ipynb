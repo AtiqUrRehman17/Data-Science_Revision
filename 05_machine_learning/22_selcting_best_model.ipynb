{
 "cells": [
  {
   "cell_type": "markdown",
   "metadata": {},
   "source": [
    "# How To Select Best Model Using Different Models"
   ]
  },
  {
   "cell_type": "code",
   "execution_count": 11,
   "metadata": {},
   "outputs": [
    {
     "name": "stderr",
     "output_type": "stream",
     "text": [
      "c:\\Users\\hp\\miniconda3\\envs\\python_ml\\Lib\\site-packages\\xgboost\\core.py:727: FutureWarning: Pass `learning_rate` as keyword args.\n",
      "  warnings.warn(msg, FutureWarning)\n"
     ]
    },
    {
     "name": "stdout",
     "output_type": "stream",
     "text": [
      "model RandomForestclassifer\n",
      "cross_val_accuracy 0.8033586132177681\n",
      "Test accuracy 0.8100558659217877\n",
      "\n",
      "model GradientBoostingClassifier\n",
      "cross_val_accuracy 0.814636068157195\n",
      "Test accuracy 0.8044692737430168\n",
      "\n",
      "model XGBRFClassifier\n",
      "cross_val_accuracy 0.7738796414852752\n",
      "Test accuracy 0.7653631284916201\n",
      "\n",
      "Best model Pipeline(steps=[('imputer', SimpleImputer(strategy='most_frequent')),\n",
      "                ('encoder', OneHotEncoder(handle_unknown='ignore')),\n",
      "                ('model', RandomForestClassifier(random_state=42))])\n"
     ]
    }
   ],
   "source": [
    "# importing libraries\n",
    "import pandas as pd\n",
    "import numpy as np\n",
    "import matplotlib.pyplot as plt\n",
    "import seaborn as sns\n",
    "from sklearn.model_selection import train_test_split,cross_val_score\n",
    "from sklearn.ensemble import RandomForestClassifier,GradientBoostingClassifier\n",
    "from xgboost import XGBRFClassifier\n",
    "from sklearn.preprocessing import LabelEncoder,OneHotEncoder\n",
    "from sklearn.impute import SimpleImputer\n",
    "from sklearn.pipeline import Pipeline\n",
    "from sklearn.metrics import accuracy_score\n",
    "\n",
    "# load the data\n",
    "df = sns.load_dataset('titanic')\n",
    "\n",
    "# splitting the data into x and y\n",
    "X = df[['sex','pclass','age','fare','embarked']]\n",
    "y = df['survived']\n",
    "\n",
    "# use train test spilt the data\n",
    "X_train,X_test,y_train,y_test = train_test_split(X,y,test_size=0.2,random_state=42)\n",
    "\n",
    "# creating list of model\n",
    "models = [\n",
    "    ('RandomForestclassifer',RandomForestClassifier(random_state=42)),\n",
    "    ('GradientBoostingClassifier',GradientBoostingClassifier(random_state=42)),\n",
    "    ('XGBRFClassifier',XGBRFClassifier(42))\n",
    "]\n",
    "\n",
    "# declaring model and thier \n",
    "# accuracy\n",
    "best_model = None\n",
    "best_accuracy = 0.0\n",
    "# itrate the model over thier performence\n",
    "for name, model in models :\n",
    "    # crete a pipline\n",
    "    pipeline = Pipeline([\n",
    "        ('imputer',SimpleImputer(strategy='most_frequent')),\n",
    "        ('encoder',OneHotEncoder(handle_unknown='ignore')),\n",
    "        ('model',model)\n",
    "    ])\n",
    "    # perform corss validation\n",
    "    score = cross_val_score(pipeline,X_train,y_train,cv=5)\n",
    "\n",
    "    # taking the mean of the score\n",
    "    mean_score = score.mean()\n",
    "\n",
    "    # fitting the pipline on the traing data\n",
    "    pipeline.fit(X_train,y_train)\n",
    "    # prediction\n",
    "    y_pred = pipeline.predict(X_test)\n",
    "\n",
    "    # calculating accuracy\n",
    "    accuracy = accuracy_score(y_test,y_pred)\n",
    "    # print the models performing\n",
    "    print('model',name)\n",
    "    print('cross_val_accuracy',mean_score)\n",
    "    print('Test accuracy',accuracy)\n",
    "    print()\n",
    "    # check if the current model has best accuracy\n",
    "    if accuracy > best_accuracy :\n",
    "        best_accuracy = accuracy\n",
    "        best_model = pipeline\n",
    "        \n",
    "        \n",
    "# retrive the best model\n",
    "print('Best model',best_model)\n",
    "\n"
   ]
  },
  {
   "cell_type": "markdown",
   "metadata": {},
   "source": [
    "# Her you can select the Best model Easily"
   ]
  },
  {
   "cell_type": "code",
   "execution_count": null,
   "metadata": {},
   "outputs": [],
   "source": []
  }
 ],
 "metadata": {
  "kernelspec": {
   "display_name": "python_ml",
   "language": "python",
   "name": "python3"
  },
  "language_info": {
   "codemirror_mode": {
    "name": "ipython",
    "version": 3
   },
   "file_extension": ".py",
   "mimetype": "text/x-python",
   "name": "python",
   "nbconvert_exporter": "python",
   "pygments_lexer": "ipython3",
   "version": "3.11.8"
  }
 },
 "nbformat": 4,
 "nbformat_minor": 2
}
