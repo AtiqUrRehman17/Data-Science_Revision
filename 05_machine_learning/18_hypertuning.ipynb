{
 "cells": [
  {
   "cell_type": "markdown",
   "metadata": {},
   "source": [
    "# **Hyper parameter Tuning**\n",
    "Hyper Parameter is the procces of Finding the Best Combination Of hyperparameters For a given model\\\n",
    "**Types** :\n",
    "- GridSearch : Exhustive Over all Possiable Combnation of Hyperparameters.\n",
    "- Random Search : Randomly sample combination Of Hyperparameters From Given Distribution.\n",
    "- Bayesian Optimaization : Model The Objective Function and search for the maximum.\n",
    "- Gradient Based OPomization :Use gredient Decnt to find the minimum of the objective function."
   ]
  },
  {
   "cell_type": "markdown",
   "metadata": {},
   "source": [
    "# Cross Validation\n",
    "Cross validation is the technique used to evaluate the performence of the model on unseen data.it is used to model generalize to the new data."
   ]
  },
  {
   "cell_type": "code",
   "execution_count": 1,
   "metadata": {},
   "outputs": [],
   "source": [
    "# importing the libraries\n",
    "from sklearn.ensemble import RandomForestClassifier\n",
    "from sklearn.model_selection import train_test_split,GridSearchCV\n",
    "from sklearn.metrics import accuracy_score\n"
   ]
  },
  {
   "cell_type": "code",
   "execution_count": 3,
   "metadata": {},
   "outputs": [],
   "source": [
    "# load the data\n",
    "from sklearn.datasets import load_iris\n",
    "iris = load_iris()\n",
    "X = iris.data\n",
    "y = iris.target"
   ]
  },
  {
   "cell_type": "code",
   "execution_count": 9,
   "metadata": {},
   "outputs": [
    {
     "name": "stdout",
     "output_type": "stream",
     "text": [
      "Fitting 5 folds for each of 168 candidates, totalling 840 fits\n",
      "The Best Parameters : {'bootstrap': False, 'criterion': 'gini', 'max_depth': 4, 'n_estimators': 100}\n"
     ]
    }
   ],
   "source": [
    "\n",
    "# defne a modle\n",
    "model = RandomForestClassifier()\n",
    "# create the paarametr grid\n",
    "param_grid = {\n",
    "    'n_estimators':[50,100,200,300,400,500],\n",
    "    'max_depth' : [4,5,6,7,8,9,10],\n",
    "    'criterion' : ['gini','entropy'],\n",
    "    'bootstrap' : [False,True]\n",
    "}\n",
    "# set up the grid\n",
    "grid = GridSearchCV(\n",
    "    estimator=model,\n",
    "    param_grid=param_grid,\n",
    "    cv=5,\n",
    "    scoring='accuracy',\n",
    "    verbose=1,\n",
    "    n_jobs=-1\n",
    "    \n",
    ")\n",
    "# fit the model\n",
    "grid.fit(X,y)\n",
    "# print the best paramets\n",
    "print(f'The Best Parameters : {grid.best_params_}')"
   ]
  },
  {
   "cell_type": "code",
   "execution_count": 11,
   "metadata": {},
   "outputs": [
    {
     "name": "stdout",
     "output_type": "stream",
     "text": [
      "Fitting 5 folds for each of 20 candidates, totalling 100 fits\n",
      "The Best Parameter is : {'n_estimators': 100, 'max_depth': 9, 'criterion': 'gini', 'bootstrap': False}\n"
     ]
    }
   ],
   "source": [
    "from sklearn.model_selection import RandomizedSearchCV,GridSearchCV\n",
    "# define a model\n",
    "model = RandomForestClassifier()\n",
    "# define paramets\n",
    "param_grid = {\n",
    "    'n_estimators':[50,100,200,300,400,500],\n",
    "    'max_depth' : [4,5,6,7,8,9,10],\n",
    "    'criterion' : ['gini','entropy'],\n",
    "    'bootstrap' : [False,True]\n",
    "}\n",
    "# srt up the grid\n",
    "grid = RandomizedSearchCV(\n",
    "    estimator = model,\n",
    "    param_distributions=param_grid,\n",
    "    scoring='accuracy',\n",
    "    verbose=1,\n",
    "    n_jobs=-1,\n",
    "    n_iter=20\n",
    ")\n",
    "# fit the grid\n",
    "grid.fit(X,y)\n",
    "# print the best parametrr\n",
    "print(f'The Best Parameter is : {grid.best_params_}')"
   ]
  },
  {
   "cell_type": "code",
   "execution_count": null,
   "metadata": {},
   "outputs": [],
   "source": []
  }
 ],
 "metadata": {
  "kernelspec": {
   "display_name": "python_ml",
   "language": "python",
   "name": "python3"
  },
  "language_info": {
   "codemirror_mode": {
    "name": "ipython",
    "version": 3
   },
   "file_extension": ".py",
   "mimetype": "text/x-python",
   "name": "python",
   "nbconvert_exporter": "python",
   "pygments_lexer": "ipython3",
   "version": "3.11.8"
  }
 },
 "nbformat": 4,
 "nbformat_minor": 2
}
